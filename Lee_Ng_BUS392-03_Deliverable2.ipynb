{
 "cells": [
  {
   "cell_type": "code",
   "execution_count": 138,
   "metadata": {},
   "outputs": [],
   "source": [
    "import pandas as pd\n",
    "import seaborn as sns"
   ]
  },
  {
   "cell_type": "code",
   "execution_count": 139,
   "metadata": {},
   "outputs": [],
   "source": [
    "# Read csv file\n",
    "df = pd.read_csv('Records.csv')"
   ]
  },
  {
   "cell_type": "code",
   "execution_count": 140,
   "metadata": {},
   "outputs": [
    {
     "data": {
      "text/plain": [
       "array(['Sub-Saharan Africa', 'South Africa', 'Fruits', 'Offline', 'M',\n",
       "       '7/27/2012', 443368995, '7/28/2012', 1593, 9.33, 6.92, 14862.69,\n",
       "       11023.56, 3839.13], dtype=object)"
      ]
     },
     "execution_count": 140,
     "metadata": {},
     "output_type": "execute_result"
    }
   ],
   "source": [
    "#gives you first row\n",
    "df.iloc[0].values\n"
   ]
  },
  {
   "cell_type": "code",
   "execution_count": 141,
   "metadata": {},
   "outputs": [
    {
     "data": {
      "text/plain": [
       "'7/28/2012'"
      ]
     },
     "execution_count": 141,
     "metadata": {},
     "output_type": "execute_result"
    }
   ],
   "source": [
    "df.index[0]\n",
    "df.tail(1).index\n",
    "df.iloc[0,7]"
   ]
  },
  {
   "cell_type": "code",
   "execution_count": 142,
   "metadata": {},
   "outputs": [
    {
     "name": "stdout",
     "output_type": "stream",
     "text": [
      "i. The record with the highest total profit including the amount, order ID, and index number in the list.\n",
      "         Order ID  Total Profit\n",
      "283913  261322534     1738703.0\n"
     ]
    }
   ],
   "source": [
    "print(\"i. The record with the highest total profit including the amount, order ID, and index number in the list.\")\n",
    "\n",
    "df1=df[['Order ID','Total Profit']]\n",
    "\n",
    "#Sort values highest to lowest\n",
    "df1_sorted = df1.sort_values( by ='Total Profit',ascending=False)\n",
    "print(df1_sorted.head(1))"
   ]
  },
  {
   "cell_type": "code",
   "execution_count": 143,
   "metadata": {},
   "outputs": [
    {
     "name": "stdout",
     "output_type": "stream",
     "text": [
      "ii. The record with the lowest total profit including the amount, order ID, and index number in the list.\n",
      "         Order ID  Total Profit\n",
      "367995  822855222          2.36\n"
     ]
    }
   ],
   "source": [
    "print(\"ii. The record with the lowest total profit including the amount, order ID, and index number in the list.\")\n",
    "\n",
    "df1=df[['Order ID','Total Profit']]\n",
    "\n",
    "df1_sorted = df1.sort_values( by ='Total Profit')\n",
    "\n",
    "print(df1_sorted.head(1))"
   ]
  },
  {
   "cell_type": "code",
   "execution_count": 144,
   "metadata": {},
   "outputs": [
    {
     "name": "stdout",
     "output_type": "stream",
     "text": [
      "iii. Top 10 highest total profit values.\n",
      "         Order ID  Total Profit  Order Date\n",
      "283913  261322534    1738703.00   6/20/2016\n",
      "216875  174407804    1738702.00   2/18/2016\n",
      "53894   707318103    1738701.00   3/16/2016\n",
      "483009  340228402    1738700.00   4/11/2016\n",
      "110349  181233918    1738528.13   3/13/2011\n",
      "78355   504866254    1738527.13  12/16/2010\n",
      "493663  345871770    1738354.26   6/13/2013\n",
      "435002  878782069    1738353.26    7/9/2013\n",
      "277787  344689023    1738180.39   7/23/2015\n",
      "137392  553966987    1738179.39  11/14/2015\n"
     ]
    }
   ],
   "source": [
    "print(\"iii. Top 10 highest total profit values.\")\n",
    "\n",
    "df1=df[['Order ID','Total Profit','Order Date']]\n",
    "\n",
    "#Sort values\n",
    "df1_sorted = df1.sort_values( by ='Total Profit',ascending=False)\n",
    "\n",
    "print(df1_sorted.head(10))"
   ]
  },
  {
   "cell_type": "code",
   "execution_count": 145,
   "metadata": {
    "scrolled": true
   },
   "outputs": [
    {
     "name": "stdout",
     "output_type": "stream",
     "text": [
      "iv. Bottom 10 lowest total profit orders\n",
      "         Order ID  Total Profit Order Date\n",
      "367995  822855222          2.36  7/18/2013\n",
      "407908  700491988          2.37  7/27/2013\n",
      "422501  657034623          2.38  5/27/2013\n",
      "477896  211039054          2.39  8/31/2013\n",
      "478720  289944922          2.40  6/22/2013\n",
      "184545  737123239          4.77   2/7/2011\n",
      "225115  413490903          4.78   5/5/2011\n",
      "228178  535854136          4.79  4/26/2011\n",
      "285097  658217370          4.80  4/18/2011\n",
      "406026  614760005          4.81  2/15/2011\n"
     ]
    }
   ],
   "source": [
    "print(\"iv. Bottom 10 lowest total profit orders\")\n",
    "\n",
    "df1=df[['Order ID','Total Profit','Order Date']]\n",
    "\n",
    "df1_sorted = df1.sort_values( by ='Total Profit')\n",
    "\n",
    "print(df1_sorted.head(10))"
   ]
  },
  {
   "cell_type": "code",
   "execution_count": 146,
   "metadata": {
    "scrolled": false
   },
   "outputs": [
    {
     "data": {
      "text/plain": [
       "{822855222: [2.36, '7/18/2013'],\n",
       " 700491988: [2.37, '7/27/2013'],\n",
       " 657034623: [2.38, '5/27/2013'],\n",
       " 211039054: [2.39, '8/31/2013'],\n",
       " 289944922: [2.4, '6/22/2013'],\n",
       " 737123239: [4.77, '2/7/2011'],\n",
       " 413490903: [4.78, '5/5/2011'],\n",
       " 535854136: [4.79, '4/26/2011'],\n",
       " 658217370: [4.8, '4/18/2011'],\n",
       " 614760005: [4.81, '2/15/2011']}"
      ]
     },
     "execution_count": 146,
     "metadata": {},
     "output_type": "execute_result"
    }
   ],
   "source": [
    "# Use the set_index and to_dict methods of the dataframe to create the dictionary\n",
    "# Creating dictionary with top 10 highest values due to computer performance challenges\n",
    "\n",
    "#d2 = df[['Order ID','Ship Date', 'Total Revenue']].sort_values( by = 'Total Revenue').head(10) \n",
    "df_fordict = df1_sorted.head(10)\n",
    "my_dict = df_fordict.set_index('Order ID').T.to_dict('list')\n",
    "my_dict"
   ]
  },
  {
   "cell_type": "code",
   "execution_count": 147,
   "metadata": {},
   "outputs": [
    {
     "name": "stdout",
     "output_type": "stream",
     "text": [
      "Order Search Function\n",
      "**************************************************************\n",
      "Please enter an Order ID to locate: 289944922\n"
     ]
    }
   ],
   "source": [
    "print('Order Search Function')\n",
    "print('**************************************************************')\n",
    "# prompt user for order ID\n",
    "order_no = int(input('Please enter an Order ID to locate: '))"
   ]
  },
  {
   "cell_type": "code",
   "execution_count": 149,
   "metadata": {
    "scrolled": false
   },
   "outputs": [
    {
     "name": "stdout",
     "output_type": "stream",
     "text": [
      "Order ID:  289944922\n",
      "Ship Date:  6/22/2013\n",
      "Total Profit: $ 2.40\n"
     ]
    }
   ],
   "source": [
    "print(\"Order ID: \", order_no)\n",
    "# get method\n",
    "orderid1 = my_dict.get(order_no, 'Record was not found')  \n",
    "\n",
    "print(\"Ship Date: \", orderid1[1])\n",
    "print(\"Total Profit: $\", format(orderid1[0],'.2f'))\n",
    "\n",
    "#orderid1[0]\n",
    "\n",
    "#how to get item out of a list\n"
   ]
  },
  {
   "cell_type": "code",
   "execution_count": 113,
   "metadata": {},
   "outputs": [],
   "source": [
    "import pickle"
   ]
  },
  {
   "cell_type": "code",
   "execution_count": 122,
   "metadata": {},
   "outputs": [],
   "source": [
    "class Order:\n",
    "\n",
    "    def __init__(self, order_ID, ship_date, total_profit):\n",
    "        self.__order_ID = order_ID\n",
    "        self.__ship_date = ship_date\n",
    "        self.__total_profit = total_profit\n",
    "        \n",
    "    def set_order_ID(self, order_ID):\n",
    "        self.__order_ID = order_ID\n",
    "            \n",
    "    def set_ship_date(self, ship_date):\n",
    "        self.__ship_date = ship_date\n",
    "    \n",
    "    def set_total_profit(self, total_profit):\n",
    "        self.__total_profit = total_profit\n",
    "\n",
    "    def get_order_ID(self):\n",
    "        return self.__order_ID\n",
    "    \n",
    "    def get_ship_date(self):\n",
    "        return self.__ship_date\n",
    "    \n",
    "    def get_total_profit(self):\n",
    "        return self.__total_profit\n",
    "    \n",
    "    def __str__(self):\n",
    "        return 'Order: ' + self.get_order_ID() + \\\n",
    "               'Ship Date: ' + self.get_ship_date() + \\\n",
    "               'Total Profit: ' + self.get_total_profit() \n",
    "    \n",
    "#SpecificOrder = Order(my_dict,my_dict,my_dict)\n",
    "#print(SpecificOrder)"
   ]
  },
  {
   "cell_type": "code",
   "execution_count": 130,
   "metadata": {},
   "outputs": [],
   "source": [
    "output_file = open('record_objects.dat', 'wb')\n",
    "record_list = []\n",
    "for i in range(100):\n",
    "    my_object = Order(df.iloc[i,6],df.iloc[i,7],df.iloc[i,13])\n",
    "    \n",
    "    record_list.append(my_object)\n",
    "    \n",
    "pickle.dump(my_object,output_file)\n",
    "        \n",
    "output_file.close()"
   ]
  },
  {
   "cell_type": "code",
   "execution_count": 150,
   "metadata": {},
   "outputs": [
    {
     "name": "stdout",
     "output_type": "stream",
     "text": [
      "This is record #10 out of 100:\n",
      "Order ID: \n",
      "Ship Date:\n",
      "Total Profit:\n"
     ]
    }
   ],
   "source": [
    "input_file = open('record_objects.dat', 'rb')\n",
    "\n",
    "openlist = pickle.load(input_file)\n",
    "\n",
    "input_file.close()\n",
    "\n",
    "#work in progress sorry \n",
    "print('This is record #10 out of 100:')\n",
    "print('Order ID: ', ) \n",
    "print('Ship Date:', )\n",
    "print('Total Profit:', )\n"
   ]
  },
  {
   "cell_type": "code",
   "execution_count": null,
   "metadata": {},
   "outputs": [],
   "source": []
  }
 ],
 "metadata": {
  "kernelspec": {
   "display_name": "Python 3",
   "language": "python",
   "name": "python3"
  },
  "language_info": {
   "codemirror_mode": {
    "name": "ipython",
    "version": 3
   },
   "file_extension": ".py",
   "mimetype": "text/x-python",
   "name": "python",
   "nbconvert_exporter": "python",
   "pygments_lexer": "ipython3",
   "version": "3.7.4"
  }
 },
 "nbformat": 4,
 "nbformat_minor": 2
}
