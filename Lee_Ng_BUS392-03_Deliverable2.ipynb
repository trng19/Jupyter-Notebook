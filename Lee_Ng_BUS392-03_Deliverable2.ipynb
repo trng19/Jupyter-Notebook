{
 "cells": [
  {
   "cell_type": "code",
   "execution_count": 10,
   "metadata": {},
   "outputs": [],
   "source": [
    "import pandas as pd\n",
    "import seaborn as sns"
   ]
  },
  {
   "cell_type": "code",
   "execution_count": 11,
   "metadata": {},
   "outputs": [],
   "source": [
    "# Read csv file\n",
    "df = pd.read_csv('Records.csv')"
   ]
  },
  {
   "cell_type": "code",
   "execution_count": 12,
   "metadata": {},
   "outputs": [
    {
     "name": "stdout",
     "output_type": "stream",
     "text": [
      "i. The record with the highest total profit including the amount, order ID, and index number in the list.\n",
      "         Order ID  Total Profit\n",
      "283913  261322534     1738703.0\n"
     ]
    }
   ],
   "source": [
    "print(\"i. The record with the highest total profit including the amount, order ID, and index number in the list.\")\n",
    "\n",
    "df1=df[['Order ID','Total Profit']]\n",
    "\n",
    "#Sort values highest to lowest\n",
    "df1_sorted = df1.sort_values( by ='Total Profit',ascending=False)\n",
    "print(df1_sorted.head(1))"
   ]
  },
  {
   "cell_type": "code",
   "execution_count": 13,
   "metadata": {},
   "outputs": [
    {
     "name": "stdout",
     "output_type": "stream",
     "text": [
      "ii. The record with the lowest total profit including the amount, order ID, and index number in the list.\n",
      "         Order ID  Total Profit\n",
      "367995  822855222          2.36\n"
     ]
    }
   ],
   "source": [
    "print(\"ii. The record with the lowest total profit including the amount, order ID, and index number in the list.\")\n",
    "\n",
    "df1=df[['Order ID','Total Profit']]\n",
    "\n",
    "df1_sorted = df1.sort_values( by ='Total Profit')\n",
    "\n",
    "print(df1_sorted.head(1))"
   ]
  },
  {
   "cell_type": "code",
   "execution_count": 14,
   "metadata": {},
   "outputs": [
    {
     "name": "stdout",
     "output_type": "stream",
     "text": [
      "iii. Top 10 highest total profit values.\n",
      "         Order ID  Total Profit  Order Date\n",
      "283913  261322534    1738703.00   6/20/2016\n",
      "216875  174407804    1738702.00   2/18/2016\n",
      "53894   707318103    1738701.00   3/16/2016\n",
      "483009  340228402    1738700.00   4/11/2016\n",
      "110349  181233918    1738528.13   3/13/2011\n",
      "78355   504866254    1738527.13  12/16/2010\n",
      "493663  345871770    1738354.26   6/13/2013\n",
      "435002  878782069    1738353.26    7/9/2013\n",
      "277787  344689023    1738180.39   7/23/2015\n",
      "137392  553966987    1738179.39  11/14/2015\n"
     ]
    }
   ],
   "source": [
    "print(\"iii. Top 10 highest total profit values.\")\n",
    "\n",
    "df1=df[['Order ID','Total Profit','Order Date']]\n",
    "\n",
    "#Sort values\n",
    "df1_sorted = df1.sort_values( by ='Total Profit',ascending=False)\n",
    "\n",
    "print(df1_sorted.head(10))"
   ]
  },
  {
   "cell_type": "code",
   "execution_count": 15,
   "metadata": {},
   "outputs": [
    {
     "name": "stdout",
     "output_type": "stream",
     "text": [
      "iv. Bottom 10 lowest total profit orders\n",
      "         Order ID  Total Profit Order Date\n",
      "367995  822855222          2.36  7/18/2013\n",
      "407908  700491988          2.37  7/27/2013\n",
      "422501  657034623          2.38  5/27/2013\n",
      "477896  211039054          2.39  8/31/2013\n",
      "478720  289944922          2.40  6/22/2013\n",
      "184545  737123239          4.77   2/7/2011\n",
      "225115  413490903          4.78   5/5/2011\n",
      "228178  535854136          4.79  4/26/2011\n",
      "285097  658217370          4.80  4/18/2011\n",
      "406026  614760005          4.81  2/15/2011\n"
     ]
    }
   ],
   "source": [
    "print(\"iv. Bottom 10 lowest total profit orders\")\n",
    "\n",
    "df1=df[['Order ID','Total Profit','Order Date']]\n",
    "\n",
    "df1_sorted = df1.sort_values( by ='Total Profit')\n",
    "\n",
    "print(df1_sorted.head(10))"
   ]
  },
  {
   "cell_type": "code",
   "execution_count": 52,
   "metadata": {
    "scrolled": false
   },
   "outputs": [],
   "source": [
    "# Use the set_index and to_dict methods of the dataframe to create the dictionary\n",
    "# Creating dictionary with top 10 highest values due to computer performance challenges\n",
    "\n",
    "df2 = df[['Order ID','Ship Date', 'Total Revenue']].sort_values( by = 'Total Revenue').head(10) \n",
    "\n",
    "my_dict = df2.set_index('Order ID').T.to_dict() \n",
    "# my_dict"
   ]
  },
  {
   "cell_type": "code",
   "execution_count": 53,
   "metadata": {},
   "outputs": [
    {
     "name": "stdout",
     "output_type": "stream",
     "text": [
      "Please enter an Order ID to locate: 289944922 \n"
     ]
    }
   ],
   "source": [
    "# prompt user for order ID\n",
    "order_no = int(input('Please enter an Order ID to locate: '))"
   ]
  },
  {
   "cell_type": "code",
   "execution_count": 54,
   "metadata": {
    "scrolled": false
   },
   "outputs": [
    {
     "name": "stdout",
     "output_type": "stream",
     "text": [
      "Order ID:  289944922\n"
     ]
    },
    {
     "data": {
      "text/plain": [
       "{'Ship Date': '8/11/2013', 'Total Revenue': 9.33}"
      ]
     },
     "execution_count": 54,
     "metadata": {},
     "output_type": "execute_result"
    }
   ],
   "source": [
    "print(\"Order ID: \", order_no)\n",
    "# get method\n",
    "my_dict.get(order_no, 'Record was not found')  \n",
    "#def getList(my_dict):\n",
    "    #return my_dict.keys()\n",
    "\n",
    "#print(getList(my_dict))\n",
    "## TODO: FIX FORMAT"
   ]
  },
  {
   "cell_type": "code",
   "execution_count": 55,
   "metadata": {},
   "outputs": [],
   "source": [
    "import pickle"
   ]
  },
  {
   "cell_type": "code",
   "execution_count": 56,
   "metadata": {},
   "outputs": [],
   "source": [
    "class Order:\n",
    "\n",
    "    def __init__(self, order_ID, ship_date, total_profit):\n",
    "        self.__order_ID = order_ID\n",
    "        self.__ship_date = ship_date\n",
    "        self.__total_profit = total_profit\n",
    "        \n",
    "    def set_order_ID(self, order_ID):\n",
    "     self.__order_ID = order_ID\n",
    "            \n",
    "    def set_ship_date(self, ship_date):\n",
    "      self.__ship_date = ship_date\n",
    "    \n",
    "    def set_total_profit(self, total_profit):\n",
    "      self.__total_profit = total_profit\n",
    "\n",
    "    def get_order_ID(self):\n",
    "        return self.__order_ID\n",
    "    \n",
    "    def get_ship_date(self):\n",
    "        return self.__ship_date\n",
    "    \n",
    "    def get_total_profit(self):\n",
    "        return self.__total_profit\n",
    "    \n",
    "    def __str__(self):\n",
    "        return 'Order: ' + self.get_order_ID() + \\\n",
    "               'Ship Date: ' + self.get_ship_date() + \\\n",
    "               'Total Profit: ' + self.get_total_profit() \n",
    "    \n",
    "#SpecificOrder = Order(my_dict,my_dict,my_dict)\n",
    "#print(SpecificOrder)"
   ]
  },
  {
   "cell_type": "code",
   "execution_count": 64,
   "metadata": {},
   "outputs": [
    {
     "ename": "TypeError",
     "evalue": "an integer is required (got type str)",
     "output_type": "error",
     "traceback": [
      "\u001b[1;31m---------------------------------------------------------------------------\u001b[0m",
      "\u001b[1;31mTypeError\u001b[0m                                 Traceback (most recent call last)",
      "\u001b[1;32m<ipython-input-64-5a378586d75a>\u001b[0m in \u001b[0;36m<module>\u001b[1;34m\u001b[0m\n\u001b[0;32m      9\u001b[0m     \u001b[0moutput_file\u001b[0m\u001b[1;33m.\u001b[0m\u001b[0mclose\u001b[0m\u001b[1;33m(\u001b[0m\u001b[1;33m)\u001b[0m\u001b[1;33m\u001b[0m\u001b[1;33m\u001b[0m\u001b[0m\n\u001b[0;32m     10\u001b[0m \u001b[1;33m\u001b[0m\u001b[0m\n\u001b[1;32m---> 11\u001b[1;33m \u001b[0mmain\u001b[0m\u001b[1;33m(\u001b[0m\u001b[1;33m)\u001b[0m\u001b[1;33m\u001b[0m\u001b[1;33m\u001b[0m\u001b[0m\n\u001b[0m",
      "\u001b[1;32m<ipython-input-64-5a378586d75a>\u001b[0m in \u001b[0;36mmain\u001b[1;34m()\u001b[0m\n\u001b[0;32m      5\u001b[0m     \u001b[1;32mwhile\u001b[0m \u001b[0mmy_dict\u001b[0m \u001b[1;33m!=\u001b[0m \u001b[1;34m'Record was not found'\u001b[0m\u001b[1;33m:\u001b[0m\u001b[1;33m\u001b[0m\u001b[1;33m\u001b[0m\u001b[0m\n\u001b[0;32m      6\u001b[0m \u001b[1;33m\u001b[0m\u001b[0m\n\u001b[1;32m----> 7\u001b[1;33m         \u001b[0mpickle\u001b[0m\u001b[1;33m.\u001b[0m\u001b[0mdump\u001b[0m\u001b[1;33m(\u001b[0m\u001b[0mmy_dict\u001b[0m\u001b[1;33m,\u001b[0m \u001b[1;34m'3'\u001b[0m\u001b[1;33m,\u001b[0m\u001b[1;34m'4'\u001b[0m\u001b[1;33m)\u001b[0m\u001b[1;33m\u001b[0m\u001b[1;33m\u001b[0m\u001b[0m\n\u001b[0m\u001b[0;32m      8\u001b[0m \u001b[1;33m\u001b[0m\u001b[0m\n\u001b[0;32m      9\u001b[0m     \u001b[0moutput_file\u001b[0m\u001b[1;33m.\u001b[0m\u001b[0mclose\u001b[0m\u001b[1;33m(\u001b[0m\u001b[1;33m)\u001b[0m\u001b[1;33m\u001b[0m\u001b[1;33m\u001b[0m\u001b[0m\n",
      "\u001b[1;31mTypeError\u001b[0m: an integer is required (got type str)"
     ]
    }
   ],
   "source": [
    "def main():\n",
    "    \n",
    "    output_file = open('record_objects.dat', 'w')\n",
    "    \n",
    "    while my_dict != 'Record was not found':\n",
    "        \n",
    "        pickle.dump(my_dict, '3','4')\n",
    "        \n",
    "    output_file.close()\n",
    "    \n",
    "main()"
   ]
  },
  {
   "cell_type": "code",
   "execution_count": null,
   "metadata": {},
   "outputs": [],
   "source": []
  }
 ],
 "metadata": {
  "kernelspec": {
   "display_name": "Python 3",
   "language": "python",
   "name": "python3"
  },
  "language_info": {
   "codemirror_mode": {
    "name": "ipython",
    "version": 3
   },
   "file_extension": ".py",
   "mimetype": "text/x-python",
   "name": "python",
   "nbconvert_exporter": "python",
   "pygments_lexer": "ipython3",
   "version": "3.7.4"
  }
 },
 "nbformat": 4,
 "nbformat_minor": 2
}
