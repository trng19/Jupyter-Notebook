{
 "cells": [
  {
   "cell_type": "code",
   "execution_count": 54,
   "metadata": {},
   "outputs": [],
   "source": [
    "import pandas as pd\n",
    "import seaborn as sns"
   ]
  },
  {
   "cell_type": "code",
   "execution_count": 55,
   "metadata": {},
   "outputs": [],
   "source": [
    "# Read csv file\n",
    "df = pd.read_csv('records.csv')\n",
    "#df = open('records.csv', 'r')"
   ]
  },
  {
   "cell_type": "code",
   "execution_count": 56,
   "metadata": {},
   "outputs": [
    {
     "name": "stdout",
     "output_type": "stream",
     "text": [
      "i. The record with the highest total profit including the amount, order ID, and index number in the list.\n",
      "         Order ID  Total Profit\n",
      "283913  261322534     1738703.0\n"
     ]
    }
   ],
   "source": [
    "print(\"i. The record with the highest total profit including the amount, order ID, and index number in the list.\")\n",
    "\n",
    "df1=df[['Order ID','Total Profit']]\n",
    "\n",
    "#Sort values highest to lowest\n",
    "df1_sorted = df1.sort_values( by ='Total Profit',ascending=False)\n",
    "\n",
    "#head() is used to print the number of records from the top\n",
    "print(df1_sorted.head(1))"
   ]
  },
  {
   "cell_type": "code",
   "execution_count": 57,
   "metadata": {},
   "outputs": [
    {
     "name": "stdout",
     "output_type": "stream",
     "text": [
      "ii. The record with the lowest total profit including the amount, order ID, and index number in the list.\n",
      "         Order ID  Total Profit\n",
      "367995  822855222          2.36\n"
     ]
    }
   ],
   "source": [
    "print(\"ii. The record with the lowest total profit including the amount, order ID, and index number in the list.\")\n",
    "\n",
    "df1=df[['Order ID','Total Profit']]\n",
    "\n",
    "df1_sorted = df1.sort_values( by ='Total Profit')\n",
    "\n",
    "print(df1_sorted.head(1))"
   ]
  },
  {
   "cell_type": "code",
   "execution_count": 58,
   "metadata": {},
   "outputs": [
    {
     "name": "stdout",
     "output_type": "stream",
     "text": [
      "iii. Top 10 highest total profit values.\n",
      "         Order ID  Total Profit  Order Date\n",
      "283913  261322534    1738703.00   6/20/2016\n",
      "216875  174407804    1738702.00   2/18/2016\n",
      "53894   707318103    1738701.00   3/16/2016\n",
      "483009  340228402    1738700.00   4/11/2016\n",
      "110349  181233918    1738528.13   3/13/2011\n",
      "78355   504866254    1738527.13  12/16/2010\n",
      "493663  345871770    1738354.26   6/13/2013\n",
      "435002  878782069    1738353.26    7/9/2013\n",
      "277787  344689023    1738180.39   7/23/2015\n",
      "137392  553966987    1738179.39  11/14/2015\n"
     ]
    }
   ],
   "source": [
    "print(\"iii. Top 10 highest total profit values.\")\n",
    "\n",
    "df1=df[['Order ID','Total Profit','Order Date']]\n",
    "\n",
    "#Sort values\n",
    "df1_sorted = df1.sort_values( by ='Total Profit',ascending=False)\n",
    "\n",
    "print(df1_sorted.head(10))"
   ]
  },
  {
   "cell_type": "code",
   "execution_count": 59,
   "metadata": {
    "scrolled": true
   },
   "outputs": [
    {
     "name": "stdout",
     "output_type": "stream",
     "text": [
      "iv. Bottom 10 lowest total profit orders\n",
      "         Order ID  Total Profit Order Date\n",
      "367995  822855222          2.36  7/18/2013\n",
      "407908  700491988          2.37  7/27/2013\n",
      "422501  657034623          2.38  5/27/2013\n",
      "477896  211039054          2.39  8/31/2013\n",
      "478720  289944922          2.40  6/22/2013\n",
      "184545  737123239          4.77   2/7/2011\n",
      "225115  413490903          4.78   5/5/2011\n",
      "228178  535854136          4.79  4/26/2011\n",
      "285097  658217370          4.80  4/18/2011\n",
      "406026  614760005          4.81  2/15/2011\n"
     ]
    }
   ],
   "source": [
    "print(\"iv. Bottom 10 lowest total profit orders\")\n",
    "\n",
    "df1=df[['Order ID','Total Profit','Order Date']]\n",
    "\n",
    "df1_sorted = df1.sort_values( by ='Total Profit')\n",
    "\n",
    "print(df1_sorted.head(10))"
   ]
  },
  {
   "cell_type": "code",
   "execution_count": null,
   "metadata": {
    "scrolled": false
   },
   "outputs": [],
   "source": [
    "print(\"Order Search Function\")\n",
    "\n",
    "print(\"******************************************************************\")\n",
    "\n",
    "#df1=df[['Order ID','Total Profit','Order Date']]\n",
    "df2 = input('Please enter an Order ID to locate: ')\n",
    "#df5 = df[['Order ID', 'Ship Date', 'Total Revenue']]\n",
    "\n",
    "#df3 = df2.loc[df2, 'Ship Date']\n",
    "#df3 = df.loc[0][6]\n",
    "\n",
    "# print(type(df.loc[0][6]))\n",
    "\n",
    "\n",
    "for i in range(0, len(df)):\n",
    "    if int(df2) == int(df.loc[i][6]):\n",
    "        print('Order ID: ',df.loc[i][6])\n",
    "        print('Ship date: ',df.loc[i][7])\n",
    "        print('Total Profit: ',df.loc[i][12])\n",
    "\n",
    "if int(df2) not in int(df.loc[i][6]):\n",
    "    print('This Order ID does not exist.')\n",
    "        \n",
    "    \n",
    "#print(df2)\n",
    "#print(df3)\n",
    "#df1 = df[['Order ID', 'Ship Date','Total Profit']]\n",
    "\n",
    "#if df2 in df['Order ID']:\n",
    "    #df2 = df['Order ID', 'Ship Date','Total Profit']\n",
    "    #print ('Order ID: ', df2)\n",
    "    #for df2 in df:\n",
    "        #print (\"Ship Date: \", 'Ship date')\n",
    "        #print(\"Total Profit: \", 'Total Profit')\n",
    "#else:\n",
    "    #print('This Order ID does not exist.')[0"
   ]
  },
  {
   "cell_type": "code",
   "execution_count": null,
   "metadata": {},
   "outputs": [],
   "source": [
    "class Order:\n",
    "\n",
    "    def __init__(self, Order ID, Ship Date, Total Profit):\n",
    "        self.__Order ID = Order_ID\n",
    "        self.__Ship Date= Ship_date\n",
    "        self.__Total Profit = Total_Profit\n",
    "        \n",
    "    def set_Order ID(self, Order_ID):\n",
    "         self.__Order ID = Order_ID\n",
    "    def set_id_number(self, id_number):\n",
    "      self.__id_number = id_number\n",
    "    def set_department(self, department):\n",
    "      self.__department = department\n",
    "    "
   ]
  }
 ],
 "metadata": {
  "kernelspec": {
   "display_name": "Python 3",
   "language": "python",
   "name": "python3"
  },
  "language_info": {
   "codemirror_mode": {
    "name": "ipython",
    "version": 3
   },
   "file_extension": ".py",
   "mimetype": "text/x-python",
   "name": "python",
   "nbconvert_exporter": "python",
   "pygments_lexer": "ipython3",
   "version": "3.7.4"
  }
 },
 "nbformat": 4,
 "nbformat_minor": 2
}
